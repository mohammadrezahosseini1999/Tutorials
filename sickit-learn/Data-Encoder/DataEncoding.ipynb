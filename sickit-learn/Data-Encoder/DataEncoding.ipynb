{
 "cells": [
  {
   "cell_type": "code",
   "execution_count": 13,
   "id": "08fdbe16",
   "metadata": {},
   "outputs": [],
   "source": [
    "import numpy as np\n",
    "import pandas as pd\n",
    "from sklearn.preprocessing import LabelEncoder, OrdinalEncoder, LabelBinarizer, OneHotEncoder"
   ]
  },
  {
   "cell_type": "code",
   "execution_count": 3,
   "id": "eacb6787",
   "metadata": {},
   "outputs": [
    {
     "data": {
      "text/html": [
       "<div>\n",
       "<style scoped>\n",
       "    .dataframe tbody tr th:only-of-type {\n",
       "        vertical-align: middle;\n",
       "    }\n",
       "\n",
       "    .dataframe tbody tr th {\n",
       "        vertical-align: top;\n",
       "    }\n",
       "\n",
       "    .dataframe thead th {\n",
       "        text-align: right;\n",
       "    }\n",
       "</style>\n",
       "<table border=\"1\" class=\"dataframe\">\n",
       "  <thead>\n",
       "    <tr style=\"text-align: right;\">\n",
       "      <th></th>\n",
       "      <th>Gender</th>\n",
       "      <th>Age</th>\n",
       "      <th>Height</th>\n",
       "      <th>Weight</th>\n",
       "      <th>family_history_with_overweight</th>\n",
       "      <th>FAVC</th>\n",
       "      <th>FCVC</th>\n",
       "      <th>NCP</th>\n",
       "      <th>CAEC</th>\n",
       "      <th>SMOKE</th>\n",
       "      <th>CH2O</th>\n",
       "      <th>SCC</th>\n",
       "      <th>FAF</th>\n",
       "      <th>TUE</th>\n",
       "      <th>CALC</th>\n",
       "      <th>MTRANS</th>\n",
       "      <th>NObeyesdad</th>\n",
       "    </tr>\n",
       "  </thead>\n",
       "  <tbody>\n",
       "    <tr>\n",
       "      <th>0</th>\n",
       "      <td>Male</td>\n",
       "      <td>24.443011</td>\n",
       "      <td>1.699998</td>\n",
       "      <td>81.669950</td>\n",
       "      <td>yes</td>\n",
       "      <td>yes</td>\n",
       "      <td>2.000000</td>\n",
       "      <td>2.983297</td>\n",
       "      <td>Sometimes</td>\n",
       "      <td>no</td>\n",
       "      <td>2.763573</td>\n",
       "      <td>no</td>\n",
       "      <td>0.000000</td>\n",
       "      <td>0.976473</td>\n",
       "      <td>Sometimes</td>\n",
       "      <td>Public_Transportation</td>\n",
       "      <td>Overweight_Level_II</td>\n",
       "    </tr>\n",
       "    <tr>\n",
       "      <th>1</th>\n",
       "      <td>Female</td>\n",
       "      <td>18.000000</td>\n",
       "      <td>1.560000</td>\n",
       "      <td>57.000000</td>\n",
       "      <td>yes</td>\n",
       "      <td>yes</td>\n",
       "      <td>2.000000</td>\n",
       "      <td>3.000000</td>\n",
       "      <td>Frequently</td>\n",
       "      <td>no</td>\n",
       "      <td>2.000000</td>\n",
       "      <td>no</td>\n",
       "      <td>1.000000</td>\n",
       "      <td>1.000000</td>\n",
       "      <td>no</td>\n",
       "      <td>Automobile</td>\n",
       "      <td>Normal_Weight</td>\n",
       "    </tr>\n",
       "    <tr>\n",
       "      <th>2</th>\n",
       "      <td>Female</td>\n",
       "      <td>18.000000</td>\n",
       "      <td>1.711460</td>\n",
       "      <td>50.165754</td>\n",
       "      <td>yes</td>\n",
       "      <td>yes</td>\n",
       "      <td>1.880534</td>\n",
       "      <td>1.411685</td>\n",
       "      <td>Sometimes</td>\n",
       "      <td>no</td>\n",
       "      <td>1.910378</td>\n",
       "      <td>no</td>\n",
       "      <td>0.866045</td>\n",
       "      <td>1.673584</td>\n",
       "      <td>no</td>\n",
       "      <td>Public_Transportation</td>\n",
       "      <td>Insufficient_Weight</td>\n",
       "    </tr>\n",
       "    <tr>\n",
       "      <th>3</th>\n",
       "      <td>Female</td>\n",
       "      <td>20.952737</td>\n",
       "      <td>1.710730</td>\n",
       "      <td>131.274851</td>\n",
       "      <td>yes</td>\n",
       "      <td>yes</td>\n",
       "      <td>3.000000</td>\n",
       "      <td>3.000000</td>\n",
       "      <td>Sometimes</td>\n",
       "      <td>no</td>\n",
       "      <td>1.674061</td>\n",
       "      <td>no</td>\n",
       "      <td>1.467863</td>\n",
       "      <td>0.780199</td>\n",
       "      <td>Sometimes</td>\n",
       "      <td>Public_Transportation</td>\n",
       "      <td>Obesity_Type_III</td>\n",
       "    </tr>\n",
       "    <tr>\n",
       "      <th>4</th>\n",
       "      <td>Male</td>\n",
       "      <td>31.641081</td>\n",
       "      <td>1.914186</td>\n",
       "      <td>93.798055</td>\n",
       "      <td>yes</td>\n",
       "      <td>yes</td>\n",
       "      <td>2.679664</td>\n",
       "      <td>1.971472</td>\n",
       "      <td>Sometimes</td>\n",
       "      <td>no</td>\n",
       "      <td>1.979848</td>\n",
       "      <td>no</td>\n",
       "      <td>1.967973</td>\n",
       "      <td>0.931721</td>\n",
       "      <td>Sometimes</td>\n",
       "      <td>Public_Transportation</td>\n",
       "      <td>Overweight_Level_II</td>\n",
       "    </tr>\n",
       "    <tr>\n",
       "      <th>...</th>\n",
       "      <td>...</td>\n",
       "      <td>...</td>\n",
       "      <td>...</td>\n",
       "      <td>...</td>\n",
       "      <td>...</td>\n",
       "      <td>...</td>\n",
       "      <td>...</td>\n",
       "      <td>...</td>\n",
       "      <td>...</td>\n",
       "      <td>...</td>\n",
       "      <td>...</td>\n",
       "      <td>...</td>\n",
       "      <td>...</td>\n",
       "      <td>...</td>\n",
       "      <td>...</td>\n",
       "      <td>...</td>\n",
       "      <td>...</td>\n",
       "    </tr>\n",
       "    <tr>\n",
       "      <th>20753</th>\n",
       "      <td>Male</td>\n",
       "      <td>25.137087</td>\n",
       "      <td>1.766626</td>\n",
       "      <td>114.187096</td>\n",
       "      <td>yes</td>\n",
       "      <td>yes</td>\n",
       "      <td>2.919584</td>\n",
       "      <td>3.000000</td>\n",
       "      <td>Sometimes</td>\n",
       "      <td>no</td>\n",
       "      <td>2.151809</td>\n",
       "      <td>no</td>\n",
       "      <td>1.330519</td>\n",
       "      <td>0.196680</td>\n",
       "      <td>Sometimes</td>\n",
       "      <td>Public_Transportation</td>\n",
       "      <td>Obesity_Type_II</td>\n",
       "    </tr>\n",
       "    <tr>\n",
       "      <th>20754</th>\n",
       "      <td>Male</td>\n",
       "      <td>18.000000</td>\n",
       "      <td>1.710000</td>\n",
       "      <td>50.000000</td>\n",
       "      <td>no</td>\n",
       "      <td>yes</td>\n",
       "      <td>3.000000</td>\n",
       "      <td>4.000000</td>\n",
       "      <td>Frequently</td>\n",
       "      <td>no</td>\n",
       "      <td>1.000000</td>\n",
       "      <td>no</td>\n",
       "      <td>2.000000</td>\n",
       "      <td>1.000000</td>\n",
       "      <td>Sometimes</td>\n",
       "      <td>Public_Transportation</td>\n",
       "      <td>Insufficient_Weight</td>\n",
       "    </tr>\n",
       "    <tr>\n",
       "      <th>20755</th>\n",
       "      <td>Male</td>\n",
       "      <td>20.101026</td>\n",
       "      <td>1.819557</td>\n",
       "      <td>105.580491</td>\n",
       "      <td>yes</td>\n",
       "      <td>yes</td>\n",
       "      <td>2.407817</td>\n",
       "      <td>3.000000</td>\n",
       "      <td>Sometimes</td>\n",
       "      <td>no</td>\n",
       "      <td>2.000000</td>\n",
       "      <td>no</td>\n",
       "      <td>1.158040</td>\n",
       "      <td>1.198439</td>\n",
       "      <td>no</td>\n",
       "      <td>Public_Transportation</td>\n",
       "      <td>Obesity_Type_II</td>\n",
       "    </tr>\n",
       "    <tr>\n",
       "      <th>20756</th>\n",
       "      <td>Male</td>\n",
       "      <td>33.852953</td>\n",
       "      <td>1.700000</td>\n",
       "      <td>83.520113</td>\n",
       "      <td>yes</td>\n",
       "      <td>yes</td>\n",
       "      <td>2.671238</td>\n",
       "      <td>1.971472</td>\n",
       "      <td>Sometimes</td>\n",
       "      <td>no</td>\n",
       "      <td>2.144838</td>\n",
       "      <td>no</td>\n",
       "      <td>0.000000</td>\n",
       "      <td>0.973834</td>\n",
       "      <td>no</td>\n",
       "      <td>Automobile</td>\n",
       "      <td>Overweight_Level_II</td>\n",
       "    </tr>\n",
       "    <tr>\n",
       "      <th>20757</th>\n",
       "      <td>Male</td>\n",
       "      <td>26.680376</td>\n",
       "      <td>1.816547</td>\n",
       "      <td>118.134898</td>\n",
       "      <td>yes</td>\n",
       "      <td>yes</td>\n",
       "      <td>3.000000</td>\n",
       "      <td>3.000000</td>\n",
       "      <td>Sometimes</td>\n",
       "      <td>no</td>\n",
       "      <td>2.003563</td>\n",
       "      <td>no</td>\n",
       "      <td>0.684487</td>\n",
       "      <td>0.713823</td>\n",
       "      <td>Sometimes</td>\n",
       "      <td>Public_Transportation</td>\n",
       "      <td>Obesity_Type_II</td>\n",
       "    </tr>\n",
       "  </tbody>\n",
       "</table>\n",
       "<p>20758 rows × 17 columns</p>\n",
       "</div>"
      ],
      "text/plain": [
       "       Gender        Age    Height      Weight family_history_with_overweight  \\\n",
       "0        Male  24.443011  1.699998   81.669950                            yes   \n",
       "1      Female  18.000000  1.560000   57.000000                            yes   \n",
       "2      Female  18.000000  1.711460   50.165754                            yes   \n",
       "3      Female  20.952737  1.710730  131.274851                            yes   \n",
       "4        Male  31.641081  1.914186   93.798055                            yes   \n",
       "...       ...        ...       ...         ...                            ...   \n",
       "20753    Male  25.137087  1.766626  114.187096                            yes   \n",
       "20754    Male  18.000000  1.710000   50.000000                             no   \n",
       "20755    Male  20.101026  1.819557  105.580491                            yes   \n",
       "20756    Male  33.852953  1.700000   83.520113                            yes   \n",
       "20757    Male  26.680376  1.816547  118.134898                            yes   \n",
       "\n",
       "      FAVC      FCVC       NCP        CAEC SMOKE      CH2O SCC       FAF  \\\n",
       "0      yes  2.000000  2.983297   Sometimes    no  2.763573  no  0.000000   \n",
       "1      yes  2.000000  3.000000  Frequently    no  2.000000  no  1.000000   \n",
       "2      yes  1.880534  1.411685   Sometimes    no  1.910378  no  0.866045   \n",
       "3      yes  3.000000  3.000000   Sometimes    no  1.674061  no  1.467863   \n",
       "4      yes  2.679664  1.971472   Sometimes    no  1.979848  no  1.967973   \n",
       "...    ...       ...       ...         ...   ...       ...  ..       ...   \n",
       "20753  yes  2.919584  3.000000   Sometimes    no  2.151809  no  1.330519   \n",
       "20754  yes  3.000000  4.000000  Frequently    no  1.000000  no  2.000000   \n",
       "20755  yes  2.407817  3.000000   Sometimes    no  2.000000  no  1.158040   \n",
       "20756  yes  2.671238  1.971472   Sometimes    no  2.144838  no  0.000000   \n",
       "20757  yes  3.000000  3.000000   Sometimes    no  2.003563  no  0.684487   \n",
       "\n",
       "            TUE       CALC                 MTRANS           NObeyesdad  \n",
       "0      0.976473  Sometimes  Public_Transportation  Overweight_Level_II  \n",
       "1      1.000000         no             Automobile        Normal_Weight  \n",
       "2      1.673584         no  Public_Transportation  Insufficient_Weight  \n",
       "3      0.780199  Sometimes  Public_Transportation     Obesity_Type_III  \n",
       "4      0.931721  Sometimes  Public_Transportation  Overweight_Level_II  \n",
       "...         ...        ...                    ...                  ...  \n",
       "20753  0.196680  Sometimes  Public_Transportation      Obesity_Type_II  \n",
       "20754  1.000000  Sometimes  Public_Transportation  Insufficient_Weight  \n",
       "20755  1.198439         no  Public_Transportation      Obesity_Type_II  \n",
       "20756  0.973834         no             Automobile  Overweight_Level_II  \n",
       "20757  0.713823  Sometimes  Public_Transportation      Obesity_Type_II  \n",
       "\n",
       "[20758 rows x 17 columns]"
      ]
     },
     "execution_count": 3,
     "metadata": {},
     "output_type": "execute_result"
    }
   ],
   "source": [
    "df = pd.read_csv(r'C:\\Users\\Darab Store\\Desktop\\ML-projects\\Git-Hub\\Tutorials\\sickit-learn\\Data-Encoder\\train.csv')\n",
    "df.drop('id', axis=1, inplace=True)\n",
    "df"
   ]
  },
  {
   "cell_type": "markdown",
   "id": "2c67c75f",
   "metadata": {},
   "source": [
    "# Using LabelEncoder"
   ]
  },
  {
   "cell_type": "raw",
   "id": "23817e09",
   "metadata": {},
   "source": [
    "we can use LabelEncoder for target column."
   ]
  },
  {
   "cell_type": "code",
   "execution_count": 6,
   "id": "734d75d9",
   "metadata": {},
   "outputs": [
    {
     "data": {
      "text/plain": [
       "array([6, 1, 0, ..., 3, 6, 3])"
      ]
     },
     "execution_count": 6,
     "metadata": {},
     "output_type": "execute_result"
    }
   ],
   "source": [
    "le = LabelEncoder()\n",
    "le.fit_transform(df['NObeyesdad'])"
   ]
  },
  {
   "cell_type": "code",
   "execution_count": 7,
   "id": "8cb4886b",
   "metadata": {},
   "outputs": [
    {
     "data": {
      "text/plain": [
       "['Insufficient_Weight',\n",
       " 'Normal_Weight',\n",
       " 'Obesity_Type_I',\n",
       " 'Obesity_Type_II',\n",
       " 'Obesity_Type_III',\n",
       " 'Overweight_Level_I',\n",
       " 'Overweight_Level_II']"
      ]
     },
     "execution_count": 7,
     "metadata": {},
     "output_type": "execute_result"
    }
   ],
   "source": [
    "# LabelEncode encode target as following list printed below:\n",
    "\n",
    "list(le.classes_)\n",
    "\n",
    "\n",
    "# there is one disadvantage about this method. we can't realize importance of each value.\n",
    "# so it is better for us and machines to don't use this method for multiclass classification tasks."
   ]
  },
  {
   "cell_type": "markdown",
   "id": "f5399c7b",
   "metadata": {},
   "source": [
    "# Using LabelBinarizer"
   ]
  },
  {
   "cell_type": "raw",
   "id": "f96001c0",
   "metadata": {},
   "source": [
    "this method is useful when the feature we want to encoding it, be binary such as 'male' or 'female'"
   ]
  },
  {
   "cell_type": "code",
   "execution_count": 9,
   "id": "df3b349f",
   "metadata": {},
   "outputs": [
    {
     "data": {
      "text/plain": [
       "array([[1],\n",
       "       [0],\n",
       "       [0],\n",
       "       ...,\n",
       "       [1],\n",
       "       [1],\n",
       "       [1]])"
      ]
     },
     "execution_count": 9,
     "metadata": {},
     "output_type": "execute_result"
    }
   ],
   "source": [
    "lb = LabelBinarizer()\n",
    "lb.fit_transform(df['Gender'])\n",
    "\n",
    "# male = 1, female = 0"
   ]
  },
  {
   "cell_type": "markdown",
   "id": "b7c2703c",
   "metadata": {},
   "source": [
    "# Using One-Hot-Encoder"
   ]
  },
  {
   "cell_type": "raw",
   "id": "2aaa2dea",
   "metadata": {},
   "source": [
    "we can use one-hot for categorical features.\n",
    "this method will place main value as 1 and others as 0."
   ]
  },
  {
   "cell_type": "code",
   "execution_count": 47,
   "id": "43bf845f",
   "metadata": {},
   "outputs": [
    {
     "data": {
      "text/html": [
       "<div>\n",
       "<style scoped>\n",
       "    .dataframe tbody tr th:only-of-type {\n",
       "        vertical-align: middle;\n",
       "    }\n",
       "\n",
       "    .dataframe tbody tr th {\n",
       "        vertical-align: top;\n",
       "    }\n",
       "\n",
       "    .dataframe thead th {\n",
       "        text-align: right;\n",
       "    }\n",
       "</style>\n",
       "<table border=\"1\" class=\"dataframe\">\n",
       "  <thead>\n",
       "    <tr style=\"text-align: right;\">\n",
       "      <th></th>\n",
       "      <th>CAEC_Always</th>\n",
       "      <th>CAEC_Frequently</th>\n",
       "      <th>CAEC_Sometimes</th>\n",
       "      <th>CAEC_no</th>\n",
       "    </tr>\n",
       "  </thead>\n",
       "  <tbody>\n",
       "    <tr>\n",
       "      <th>0</th>\n",
       "      <td>0.0</td>\n",
       "      <td>0.0</td>\n",
       "      <td>1.0</td>\n",
       "      <td>0.0</td>\n",
       "    </tr>\n",
       "    <tr>\n",
       "      <th>1</th>\n",
       "      <td>0.0</td>\n",
       "      <td>1.0</td>\n",
       "      <td>0.0</td>\n",
       "      <td>0.0</td>\n",
       "    </tr>\n",
       "    <tr>\n",
       "      <th>2</th>\n",
       "      <td>0.0</td>\n",
       "      <td>0.0</td>\n",
       "      <td>1.0</td>\n",
       "      <td>0.0</td>\n",
       "    </tr>\n",
       "    <tr>\n",
       "      <th>3</th>\n",
       "      <td>0.0</td>\n",
       "      <td>0.0</td>\n",
       "      <td>1.0</td>\n",
       "      <td>0.0</td>\n",
       "    </tr>\n",
       "    <tr>\n",
       "      <th>4</th>\n",
       "      <td>0.0</td>\n",
       "      <td>0.0</td>\n",
       "      <td>1.0</td>\n",
       "      <td>0.0</td>\n",
       "    </tr>\n",
       "    <tr>\n",
       "      <th>...</th>\n",
       "      <td>...</td>\n",
       "      <td>...</td>\n",
       "      <td>...</td>\n",
       "      <td>...</td>\n",
       "    </tr>\n",
       "    <tr>\n",
       "      <th>20753</th>\n",
       "      <td>0.0</td>\n",
       "      <td>0.0</td>\n",
       "      <td>1.0</td>\n",
       "      <td>0.0</td>\n",
       "    </tr>\n",
       "    <tr>\n",
       "      <th>20754</th>\n",
       "      <td>0.0</td>\n",
       "      <td>1.0</td>\n",
       "      <td>0.0</td>\n",
       "      <td>0.0</td>\n",
       "    </tr>\n",
       "    <tr>\n",
       "      <th>20755</th>\n",
       "      <td>0.0</td>\n",
       "      <td>0.0</td>\n",
       "      <td>1.0</td>\n",
       "      <td>0.0</td>\n",
       "    </tr>\n",
       "    <tr>\n",
       "      <th>20756</th>\n",
       "      <td>0.0</td>\n",
       "      <td>0.0</td>\n",
       "      <td>1.0</td>\n",
       "      <td>0.0</td>\n",
       "    </tr>\n",
       "    <tr>\n",
       "      <th>20757</th>\n",
       "      <td>0.0</td>\n",
       "      <td>0.0</td>\n",
       "      <td>1.0</td>\n",
       "      <td>0.0</td>\n",
       "    </tr>\n",
       "  </tbody>\n",
       "</table>\n",
       "<p>20758 rows × 4 columns</p>\n",
       "</div>"
      ],
      "text/plain": [
       "       CAEC_Always  CAEC_Frequently  CAEC_Sometimes  CAEC_no\n",
       "0              0.0              0.0             1.0      0.0\n",
       "1              0.0              1.0             0.0      0.0\n",
       "2              0.0              0.0             1.0      0.0\n",
       "3              0.0              0.0             1.0      0.0\n",
       "4              0.0              0.0             1.0      0.0\n",
       "...            ...              ...             ...      ...\n",
       "20753          0.0              0.0             1.0      0.0\n",
       "20754          0.0              1.0             0.0      0.0\n",
       "20755          0.0              0.0             1.0      0.0\n",
       "20756          0.0              0.0             1.0      0.0\n",
       "20757          0.0              0.0             1.0      0.0\n",
       "\n",
       "[20758 rows x 4 columns]"
      ]
     },
     "execution_count": 47,
     "metadata": {},
     "output_type": "execute_result"
    }
   ],
   "source": [
    "oe = OneHotEncoder(handle_unknown='ignore' ,sparse_output=False).set_output(transform='pandas')\n",
    "oe.fit_transform(df[['CAEC']])"
   ]
  },
  {
   "cell_type": "code",
   "execution_count": 49,
   "id": "341b0a96",
   "metadata": {},
   "outputs": [
    {
     "data": {
      "text/plain": [
       "['Sometimes', 'Frequently', 'no', 'Always']\n",
       "Categories (4, object): ['Always', 'Frequently', 'Sometimes', 'no']"
      ]
     },
     "execution_count": 49,
     "metadata": {},
     "output_type": "execute_result"
    }
   ],
   "source": [
    "df['CAEC'].unique()"
   ]
  },
  {
   "cell_type": "code",
   "execution_count": 50,
   "id": "61411fde",
   "metadata": {},
   "outputs": [],
   "source": [
    "# as you can see, onehotencoder encode data to 0, 1 for each of unique values."
   ]
  },
  {
   "cell_type": "markdown",
   "id": "7bce8f48",
   "metadata": {},
   "source": [
    "# Ordinal Encoder"
   ]
  },
  {
   "cell_type": "code",
   "execution_count": 52,
   "id": "e0da370d",
   "metadata": {},
   "outputs": [
    {
     "data": {
      "text/plain": [
       "['Sometimes', 'Frequently', 'no', 'Always']\n",
       "Categories (4, object): ['Always', 'Frequently', 'Sometimes', 'no']"
      ]
     },
     "execution_count": 52,
     "metadata": {},
     "output_type": "execute_result"
    }
   ],
   "source": [
    "df['CAEC'].unique()"
   ]
  },
  {
   "cell_type": "code",
   "execution_count": 54,
   "id": "92868207",
   "metadata": {},
   "outputs": [],
   "source": [
    "caec = ['no', 'Sometimes', 'Frequently', 'Always']"
   ]
  },
  {
   "cell_type": "code",
   "execution_count": 56,
   "id": "65e9cff6",
   "metadata": {},
   "outputs": [
    {
     "data": {
      "text/plain": [
       "array([[1.],\n",
       "       [2.],\n",
       "       [1.],\n",
       "       ...,\n",
       "       [1.],\n",
       "       [1.],\n",
       "       [1.]])"
      ]
     },
     "execution_count": 56,
     "metadata": {},
     "output_type": "execute_result"
    }
   ],
   "source": [
    "oe = OrdinalEncoder(categories=[caec])\n",
    "oe.fit_transform(df[['CAEC']])"
   ]
  },
  {
   "cell_type": "code",
   "execution_count": 57,
   "id": "e039161b",
   "metadata": {},
   "outputs": [
    {
     "data": {
      "text/plain": [
       "0     Sometimes\n",
       "1    Frequently\n",
       "2     Sometimes\n",
       "3     Sometimes\n",
       "4     Sometimes\n",
       "Name: CAEC, dtype: category\n",
       "Categories (4, object): ['Always', 'Frequently', 'Sometimes', 'no']"
      ]
     },
     "execution_count": 57,
     "metadata": {},
     "output_type": "execute_result"
    }
   ],
   "source": [
    "df['CAEC'].head()\n",
    "\n",
    "# sometimes=1 , frequently=2, etc."
   ]
  },
  {
   "cell_type": "code",
   "execution_count": null,
   "id": "a0fc0ab3",
   "metadata": {},
   "outputs": [],
   "source": []
  }
 ],
 "metadata": {
  "kernelspec": {
   "display_name": "Python 3 (ipykernel)",
   "language": "python",
   "name": "python3"
  },
  "language_info": {
   "codemirror_mode": {
    "name": "ipython",
    "version": 3
   },
   "file_extension": ".py",
   "mimetype": "text/x-python",
   "name": "python",
   "nbconvert_exporter": "python",
   "pygments_lexer": "ipython3",
   "version": "3.11.5"
  }
 },
 "nbformat": 4,
 "nbformat_minor": 5
}
