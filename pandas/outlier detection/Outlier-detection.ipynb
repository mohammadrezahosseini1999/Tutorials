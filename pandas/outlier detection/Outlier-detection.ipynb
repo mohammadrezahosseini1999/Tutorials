{
 "cells": [
  {
   "cell_type": "raw",
   "id": "a9dfd7e7",
   "metadata": {},
   "source": [
    "In this tutorial we want to detect outliers and for this task we will write a function."
   ]
  },
  {
   "cell_type": "code",
   "execution_count": null,
   "id": "ce82e6dd",
   "metadata": {},
   "outputs": [],
   "source": [
    "# import libra"
   ]
  }
 ],
 "metadata": {
  "kernelspec": {
   "display_name": "Python 3 (ipykernel)",
   "language": "python",
   "name": "python3"
  },
  "language_info": {
   "codemirror_mode": {
    "name": "ipython",
    "version": 3
   },
   "file_extension": ".py",
   "mimetype": "text/x-python",
   "name": "python",
   "nbconvert_exporter": "python",
   "pygments_lexer": "ipython3",
   "version": "3.11.5"
  }
 },
 "nbformat": 4,
 "nbformat_minor": 5
}
